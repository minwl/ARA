{
 "cells": [
  {
   "cell_type": "code",
   "execution_count": 7,
   "id": "b89d4ff5",
   "metadata": {},
   "outputs": [
    {
     "name": "stdout",
     "output_type": "stream",
     "text": [
      "Connection established\n"
     ]
    }
   ],
   "source": [
    "import psycopg2\n",
    "import pandas as pd\n",
    "\n",
    "# Update connection string information\n",
    "\n",
    "host = \"ara.postgres.database.azure.com\"\n",
    "dbname = \"postgres\"\n",
    "user = \"ara\"\n",
    "password = \"!dkfk23595\"\n",
    "sslmode = \"require\"\n",
    "\n",
    "# Construct connection string\n",
    "\n",
    "conn_string = \"host={0} user={1} dbname={2} password={3} sslmode={4}\".format(host, user, dbname, password, sslmode)\n",
    "conn = psycopg2.connect(conn_string)\n",
    "print(\"Connection established\")"
   ]
  },
  {
   "cell_type": "code",
   "execution_count": 2,
   "id": "a516c740",
   "metadata": {},
   "outputs": [],
   "source": [
    "class Databases():\n",
    "    def __init__(self):\n",
    "        self.db = psycopg2.connect(conn_string)\n",
    "        self.cursor = self.db.cursor()\n",
    "\n",
    "    def __del__(self):\n",
    "        self.db.close()\n",
    "        self.cursor.close()\n",
    "\n",
    "    def execute(self,query,args={}):\n",
    "        self.cursor.execute(query,args)\n",
    "        row = self.cursor.fetchall()\n",
    "        return row\n",
    "\n",
    "    def commit(self):\n",
    "        self.cursor.commit()"
   ]
  },
  {
   "cell_type": "code",
   "execution_count": 12,
   "id": "0587c674",
   "metadata": {},
   "outputs": [
    {
     "name": "stdout",
     "output_type": "stream",
     "text": [
      "  user_id   question   evidence   answer  stars\n",
      "0    ara2  question2  evidence2  answer2      5\n",
      "1    ara7  question3  evidence3  answer3      3\n"
     ]
    },
    {
     "name": "stderr",
     "output_type": "stream",
     "text": [
      "C:\\Users\\HanJun\\anaconda3\\lib\\site-packages\\pandas\\io\\sql.py:761: UserWarning: pandas only support SQLAlchemy connectable(engine/connection) ordatabase string URI or sqlite3 DBAPI2 connectionother DBAPI2 objects are not tested, please consider using SQLAlchemy\n",
      "  warnings.warn(\n"
     ]
    }
   ],
   "source": [
    "class CRUD(Databases):\n",
    "    def insertDB(self,schema,table,column,data):\n",
    "        sql = \" INSERT INTO {schema}.{table}({column}) VALUES ({data}) ;\".format(schema=schema,table=table,column=column,data=data)\n",
    "        try:\n",
    "            self.cursor.execute(sql)\n",
    "            self.db.commit()\n",
    "        except Exception as e :\n",
    "            print(\" insert DB err \",e) \n",
    "    \n",
    "    def readDB(self,schema,table,column):\n",
    "        sql = \" SELECT {column} from {schema}.{table}\".format(column=column,schema=schema,table=table)\n",
    "        try:\n",
    "            df = pd.read_sql(sql, self.db)\n",
    "#             self.db.commit()\n",
    "        except Exception as e :\n",
    "            result = (\" read DB err\",e)\n",
    "        \n",
    "        return df\n",
    "\n",
    "    def updateDB(self,schema,table,column,value,condition):\n",
    "        sql = \" UPDATE {schema}.{table} SET {column}='{value}' WHERE {column}='{condition}' \".format(schema=schema\n",
    "        , table=table , column=column ,value=value,condition=condition )\n",
    "        try :\n",
    "            self.cursor.execute(sql)\n",
    "            self.db.commit()\n",
    "        except Exception as e :\n",
    "            print(\" update DB err\",e)\n",
    "\n",
    "    def deleteDB(self,schema,table,condition):\n",
    "        sql = \" delete from {schema}.{table} where {condition} ; \".format(schema=schema,table=table,\n",
    "        condition=condition)\n",
    "        try :\n",
    "            self.cursor.execute(sql)\n",
    "            self.db.commit()\n",
    "        except Exception as e:\n",
    "            print( \"delete DB err\", e)\n",
    "            \n",
    "if __name__ == \"__main__\":\n",
    "    db = CRUD()\n",
    "    db.insertDB(schema='public',table='feedback',column='user_id, question, evidence, answer, stars', data=\"'ara1','question1','evidence1','answer1',1\")\n",
    "    db.updateDB(schema='public',table='feedback',column='user_id', value='ara7',condition='ara9')\n",
    "    db.deleteDB(schema='public',table='feedback',condition =\"user_id = 'ara1'\")\n",
    "    df = db.readDB(schema='public',table='feedback',column='user_id, question, evidence, answer, stars')\n",
    "    print(df)"
   ]
  },
  {
   "cell_type": "code",
   "execution_count": 13,
   "id": "304f1c7b",
   "metadata": {},
   "outputs": [
    {
     "data": {
      "text/html": [
       "<div>\n",
       "<style scoped>\n",
       "    .dataframe tbody tr th:only-of-type {\n",
       "        vertical-align: middle;\n",
       "    }\n",
       "\n",
       "    .dataframe tbody tr th {\n",
       "        vertical-align: top;\n",
       "    }\n",
       "\n",
       "    .dataframe thead th {\n",
       "        text-align: right;\n",
       "    }\n",
       "</style>\n",
       "<table border=\"1\" class=\"dataframe\">\n",
       "  <thead>\n",
       "    <tr style=\"text-align: right;\">\n",
       "      <th></th>\n",
       "      <th>user_id</th>\n",
       "      <th>question</th>\n",
       "      <th>evidence</th>\n",
       "      <th>answer</th>\n",
       "      <th>stars</th>\n",
       "    </tr>\n",
       "  </thead>\n",
       "  <tbody>\n",
       "    <tr>\n",
       "      <th>0</th>\n",
       "      <td>ara2</td>\n",
       "      <td>question2</td>\n",
       "      <td>evidence2</td>\n",
       "      <td>answer2</td>\n",
       "      <td>5</td>\n",
       "    </tr>\n",
       "    <tr>\n",
       "      <th>1</th>\n",
       "      <td>ara7</td>\n",
       "      <td>question3</td>\n",
       "      <td>evidence3</td>\n",
       "      <td>answer3</td>\n",
       "      <td>3</td>\n",
       "    </tr>\n",
       "  </tbody>\n",
       "</table>\n",
       "</div>"
      ],
      "text/plain": [
       "  user_id   question   evidence   answer  stars\n",
       "0    ara2  question2  evidence2  answer2      5\n",
       "1    ara7  question3  evidence3  answer3      3"
      ]
     },
     "execution_count": 13,
     "metadata": {},
     "output_type": "execute_result"
    }
   ],
   "source": [
    "df"
   ]
  },
  {
   "cell_type": "code",
   "execution_count": 17,
   "id": "76004ecc",
   "metadata": {},
   "outputs": [
    {
     "name": "stdout",
     "output_type": "stream",
     "text": [
      "  user_id   question   evidence   answer  stars\n",
      "0    ara1  question1  evidence1  answer1      1\n",
      "1    ara2  question2  evidence2  answer2      2\n",
      "2    ara3  question3  evidence3  answer3      3\n",
      "3    ara7  question7  evidence7  answer7      7\n"
     ]
    }
   ],
   "source": [
    "class CRUD(Databases):\n",
    "    def insertDB(self,schema,table,column,data):\n",
    "        sql = \" INSERT INTO {schema}.{table}({column}) VALUES ({data}) ;\".format(schema=schema,table=table,column=column,data=data)\n",
    "        try:\n",
    "            self.cursor.execute(sql)\n",
    "            self.db.commit()\n",
    "        except Exception as e :\n",
    "            print(\" insert DB err \",e) \n",
    "    \n",
    "    def readDB(self,schema,table,column):\n",
    "        sql = \" SELECT {column} from {schema}.{table}\".format(column=column,schema=schema,table=table)\n",
    "        try:\n",
    "            df = pd.read_sql(sql, self.db)\n",
    "#             self.db.commit()\n",
    "        except Exception as e :\n",
    "            result = (\" read DB err\",e)\n",
    "        \n",
    "        return df\n",
    "\n",
    "    def updateDB(self,schema,table,column,value,condition):\n",
    "        sql = \" UPDATE {schema}.{table} SET {column}='{value}' WHERE {column}='{condition}' \".format(schema=schema\n",
    "        , table=table , column=column ,value=value,condition=condition )\n",
    "        try :\n",
    "            self.cursor.execute(sql)\n",
    "            self.db.commit()\n",
    "        except Exception as e :\n",
    "            print(\" update DB err\",e)\n",
    "\n",
    "    def deleteDB(self,schema,table,condition):\n",
    "        sql = \" delete from {schema}.{table} where {condition} ; \".format(schema=schema,table=table,\n",
    "        condition=condition)\n",
    "        try :\n",
    "            self.cursor.execute(sql)\n",
    "            self.db.commit()\n",
    "        except Exception as e:\n",
    "            print( \"delete DB err\", e)\n",
    "            \n",
    "if __name__ == \"__main__\":\n",
    "    db = CRUD()\n",
    "    db.insertDB(schema='member',table='user',column='user_id, user_name', data=\"'ara7','ara_name7'\")\n",
    "    db.insertDB(schema='log',table='user_activity',column='user_id, question, evidence, answer, stars', data=\"'ara7','question7','evidence7','answer7',7\")\n",
    "#     db.updateDB(schema='log',table='user_activity',column='user_id', value='ara7',condition='ara9')\n",
    "#     db.deleteDB(schema='log',table='user_activity',condition =\"user_id = 'ara1'\")\n",
    "    df = db.readDB(schema='log',table='user_activity',column='user_id, question, evidence, answer, stars')\n",
    "    print(df)"
   ]
  },
  {
   "cell_type": "code",
   "execution_count": null,
   "id": "384cee98",
   "metadata": {},
   "outputs": [],
   "source": [
    "db.readDB(schema='log',table='user_activity',column='user_id, question, evidence, answer, stars')"
   ]
  }
 ],
 "metadata": {
  "kernelspec": {
   "display_name": "Python 3 (ipykernel)",
   "language": "python",
   "name": "python3"
  },
  "language_info": {
   "codemirror_mode": {
    "name": "ipython",
    "version": 3
   },
   "file_extension": ".py",
   "mimetype": "text/x-python",
   "name": "python",
   "nbconvert_exporter": "python",
   "pygments_lexer": "ipython3",
   "version": "3.9.12"
  }
 },
 "nbformat": 4,
 "nbformat_minor": 5
}
